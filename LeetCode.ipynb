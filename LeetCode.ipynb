{
  "nbformat": 4,
  "nbformat_minor": 0,
  "metadata": {
    "colab": {
      "provenance": []
    },
    "kernelspec": {
      "name": "python3",
      "display_name": "Python 3"
    },
    "language_info": {
      "name": "python"
    }
  },
  "cells": [
    {
      "cell_type": "markdown",
      "source": [
        "Given two sorted arrays nums1 and nums2 of size m and n respectively, return the median of the two sorted arrays.\n",
        "\n",
        "The overall run time complexity should be O(log (m+n)).\n",
        "\n",
        "\n",
        "\n",
        "Example 1:\n",
        "\n",
        "Input: nums1 = [1,3], nums2 = [2]\n",
        "Output: 2.00000\n",
        "Explanation: merged array = [1,2,3] and median is 2.\n",
        "Example 2:\n",
        "\n",
        "Input: nums1 = [1,2], nums2 = [3,4]\n",
        "Output: 2.50000\n",
        "Explanation: merged array = [1,2,3,4] and median is (2 + 3) / 2 = 2.5.\n",
        "\n",
        "\n",
        "Constraints:\n",
        "\n",
        "nums1.length == m\n",
        "nums2.length == n\n",
        "0 <= m <= 1000\n",
        "0 <= n <= 1000\n",
        "1 <= m + n <= 2000\n",
        "-106 <= nums1[i], nums2[i] <= 106\n",
        "Seen this question in a real interview before?\n",
        "1/4\n",
        "Yes\n",
        "No\n",
        "Accepted\n",
        "2.3M\n",
        "Submissions\n",
        "5.9M\n",
        "Acceptance Rate\n",
        "38.4%"
      ],
      "metadata": {
        "id": "39nDpeqs94Gj"
      }
    },
    {
      "cell_type": "code",
      "execution_count": 29,
      "metadata": {
        "colab": {
          "base_uri": "https://localhost:8080/"
        },
        "id": "oh0XiTBN90-s",
        "outputId": "8998e5bc-7b98-494b-b9aa-266669eed550"
      },
      "outputs": [
        {
          "output_type": "execute_result",
          "data": {
            "text/plain": [
              "2.5"
            ]
          },
          "metadata": {},
          "execution_count": 29
        }
      ],
      "source": [
        "from typing import List\n",
        "\n",
        "class Solution:\n",
        "\n",
        "    def pickingMedian(self, nums):\n",
        "      if len(nums)%2 == 0:\n",
        "        position_of_median2 = int(len(nums)/2)\n",
        "        position_of_median1 = position_of_median2-1\n",
        "        summary_of_median = (nums[position_of_median2]+nums[position_of_median1])/2\n",
        "        return  summary_of_median\n",
        "      else:\n",
        "        position_of_median = int(((len(nums)-1)/2))\n",
        "        return nums[position_of_median]\n",
        "\n",
        "    def findMedianSortedArrays(self, nums1: List[int], nums2: List[int]) -> float:\n",
        "        list_of_int = nums1 + nums2\n",
        "        list_of_int.sort()\n",
        "        resoult = self.pickingMedian(list_of_int)\n",
        "        return resoult\n",
        "\n",
        "Solution().findMedianSortedArrays([1,3],[2,4])"
      ]
    }
  ]
}